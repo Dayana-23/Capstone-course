{
  "cells": [
    {
      "cell_type": "markdown",
      "metadata": {
        "id": "3ZaTq2Bm754V"
      },
      "source": [
        "# Anonymized data about subscribers' Analysis\n"
      ]
    },
    {
      "cell_type": "markdown",
      "metadata": {
        "id": "NMAuLEhg754X"
      },
      "source": [
        "### Content\n",
        "+ 1.Introduction\n",
        "+ 2.Data description\n",
        "+ 3.Data preparation\n",
        "+ 3.EDA\n",
        "+ 5.Models Creation\n",
        "+ 6.Models Comparison\n",
        "+ 7.Conclusion"
      ]
    },
    {
      "cell_type": "markdown",
      "metadata": {
        "id": "ke55fpvW754X"
      },
      "source": [
        "## 1. Introduction\n",
        "\n",
        "+ The purpose is to describe the stages of building a model, build a model, evaluate it and tell the business how to apply it, that is, you need a business interpretation.\n",
        "\n",
        "+ Anonymized data about subscribers: the language of the subscriber's service, the tariff plan, information about the volume of consumption of various services of the operator, and others.\n",
        "\n",
        "+ The objective is to make an exploratory data analysis by making graphs in order to understand and find out more clearly the dataset. Furthermore, we have made a data preparation by dropping unneded column, and preprocessing by using MinMaxScaller  library.\n",
        "+ Finally, created the suitable models by using NauveBayes, RandomForest , KNN classifiers and also SVM and PCA models to hanle with anomaly detection along with unbalanced dataset."
      ]
    },
    {
      "cell_type": "markdown",
      "metadata": {
        "id": "JID58SgJ754X"
      },
      "source": [
        "##  Data description:\n",
        "    + C1,C2,C3 - is for categorical attributes \n",
        "    + N1,N2,N3,N4,N5,N6,N7,N8,N9,N10,N11,N12,..,N23 - is for Numerical attributes \n",
        "    + TARGET - is for our target variable "
      ]
    },
    {
      "cell_type": "markdown",
      "metadata": {
        "id": "u87uX-0j754X"
      },
      "source": [
        "## *Importing 'must-have' Libraries like these:*"
      ]
    },
    {
      "cell_type": "code",
      "execution_count": null,
      "metadata": {
        "id": "Le79teCd754X"
      },
      "outputs": [],
      "source": [
        "import numpy as np  # to access data in any formats.\n",
        "import pandas as pd  # to work with data frame formats.\n",
        "\n",
        "# visual\n",
        "import matplotlib.pyplot as plt\n",
        "import seaborn as sns\n",
        "\n",
        "# missing data\n",
        "import missingno as msno\n",
        "\n",
        "# to split dataset to train and test\n",
        "from sklearn.model_selection import train_test_split\n",
        "\n",
        "# Scaling\n",
        "from sklearn import preprocessing\n",
        "from sklearn.preprocessing import StandardScaler\n",
        "from sklearn.preprocessing import MinMaxScaler\n",
        "\n",
        "# ML\n",
        "from sklearn.naive_bayes import GaussianNB\n",
        "from sklearn.linear_model import LogisticRegression\n",
        "from sklearn.ensemble import RandomForestClassifier\n",
        "from sklearn.neighbors import KNeighborsClassifier\n",
        "from sklearn.svm import OneClassSVM\n",
        "\n",
        "# ML classifier model Evaluation\n",
        "from sklearn.metrics import mean_squared_error,r2_score\n",
        "from sklearn.metrics import classification_report,confusion_matrix,roc_auc_score ,roc_curve,auc\n",
        "from sklearn.metrics import accuracy_score, recall_score, precision_score, f1_score\n",
        "\n",
        "import warnings  # do not show matching warnings\n",
        "warnings.filterwarnings('ignore')\n",
        "%matplotlib inline"
      ]
    },
    {
      "cell_type": "markdown",
      "metadata": {
        "id": "ry_s39Fc754Y"
      },
      "source": [
        "## 3. Data preparation"
      ]
    },
    {
      "cell_type": "code",
      "execution_count": null,
      "metadata": {
        "id": "6DycWU-m754Y",
        "outputId": "325b048a-1301-4e60-b6bd-16f271bc105e"
      },
      "outputs": [
        {
          "data": {
            "text/html": [
              "<div>\n",
              "<style scoped>\n",
              "    .dataframe tbody tr th:only-of-type {\n",
              "        vertical-align: middle;\n",
              "    }\n",
              "\n",
              "    .dataframe tbody tr th {\n",
              "        vertical-align: top;\n",
              "    }\n",
              "\n",
              "    .dataframe thead th {\n",
              "        text-align: right;\n",
              "    }\n",
              "</style>\n",
              "<table border=\"1\" class=\"dataframe\">\n",
              "  <thead>\n",
              "    <tr style=\"text-align: right;\">\n",
              "      <th></th>\n",
              "      <th>C1</th>\n",
              "      <th>C2</th>\n",
              "      <th>C3</th>\n",
              "      <th>N1</th>\n",
              "      <th>N2</th>\n",
              "      <th>N3</th>\n",
              "      <th>N4</th>\n",
              "      <th>N5</th>\n",
              "      <th>N6</th>\n",
              "      <th>N7</th>\n",
              "      <th>...</th>\n",
              "      <th>N15</th>\n",
              "      <th>N16</th>\n",
              "      <th>N17</th>\n",
              "      <th>N18</th>\n",
              "      <th>N19</th>\n",
              "      <th>N20</th>\n",
              "      <th>N21</th>\n",
              "      <th>N22</th>\n",
              "      <th>N23</th>\n",
              "      <th>TARGET</th>\n",
              "    </tr>\n",
              "  </thead>\n",
              "  <tbody>\n",
              "    <tr>\n",
              "      <th>0</th>\n",
              "      <td>3139363536333839</td>\n",
              "      <td>323531</td>\n",
              "      <td>33</td>\n",
              "      <td>83,74</td>\n",
              "      <td>3172,92</td>\n",
              "      <td>181,48</td>\n",
              "      <td>24,83</td>\n",
              "      <td>9,6</td>\n",
              "      <td>0</td>\n",
              "      <td>0</td>\n",
              "      <td>...</td>\n",
              "      <td>7</td>\n",
              "      <td>0</td>\n",
              "      <td>0</td>\n",
              "      <td>36</td>\n",
              "      <td>7</td>\n",
              "      <td>36</td>\n",
              "      <td>7</td>\n",
              "      <td>0</td>\n",
              "      <td>0</td>\n",
              "      <td>0</td>\n",
              "    </tr>\n",
              "    <tr>\n",
              "      <th>1</th>\n",
              "      <td>3437333830323633</td>\n",
              "      <td>343835</td>\n",
              "      <td>31</td>\n",
              "      <td>1,46</td>\n",
              "      <td>1273,88</td>\n",
              "      <td>92,11</td>\n",
              "      <td>211,78</td>\n",
              "      <td>28,98</td>\n",
              "      <td>5,75</td>\n",
              "      <td>13,85</td>\n",
              "      <td>...</td>\n",
              "      <td>18</td>\n",
              "      <td>5</td>\n",
              "      <td>6</td>\n",
              "      <td>52</td>\n",
              "      <td>12</td>\n",
              "      <td>57</td>\n",
              "      <td>18</td>\n",
              "      <td>0</td>\n",
              "      <td>0</td>\n",
              "      <td>0</td>\n",
              "    </tr>\n",
              "    <tr>\n",
              "      <th>2</th>\n",
              "      <td>3134323931353339</td>\n",
              "      <td>323531</td>\n",
              "      <td>33</td>\n",
              "      <td>0</td>\n",
              "      <td>31,95</td>\n",
              "      <td>763,19</td>\n",
              "      <td>48,13</td>\n",
              "      <td>77,22</td>\n",
              "      <td>9,33</td>\n",
              "      <td>4,9</td>\n",
              "      <td>...</td>\n",
              "      <td>24</td>\n",
              "      <td>18</td>\n",
              "      <td>6</td>\n",
              "      <td>46</td>\n",
              "      <td>18</td>\n",
              "      <td>64</td>\n",
              "      <td>24</td>\n",
              "      <td>0</td>\n",
              "      <td>0</td>\n",
              "      <td>0</td>\n",
              "    </tr>\n",
              "    <tr>\n",
              "      <th>3</th>\n",
              "      <td>3431333831343031</td>\n",
              "      <td>343433</td>\n",
              "      <td>31</td>\n",
              "      <td>117,49</td>\n",
              "      <td>529,19</td>\n",
              "      <td>1506,4</td>\n",
              "      <td>127,67</td>\n",
              "      <td>49,3</td>\n",
              "      <td>6,25</td>\n",
              "      <td>0,2</td>\n",
              "      <td>...</td>\n",
              "      <td>57</td>\n",
              "      <td>4</td>\n",
              "      <td>1</td>\n",
              "      <td>142</td>\n",
              "      <td>56</td>\n",
              "      <td>148</td>\n",
              "      <td>57</td>\n",
              "      <td>0</td>\n",
              "      <td>0</td>\n",
              "      <td>0</td>\n",
              "    </tr>\n",
              "    <tr>\n",
              "      <th>4</th>\n",
              "      <td>3233343933313234</td>\n",
              "      <td>343835</td>\n",
              "      <td>31</td>\n",
              "      <td>0</td>\n",
              "      <td>38,24</td>\n",
              "      <td>3493,18</td>\n",
              "      <td>389,98</td>\n",
              "      <td>72,78</td>\n",
              "      <td>16,72</td>\n",
              "      <td>4,28</td>\n",
              "      <td>...</td>\n",
              "      <td>28</td>\n",
              "      <td>17</td>\n",
              "      <td>5</td>\n",
              "      <td>69</td>\n",
              "      <td>23</td>\n",
              "      <td>86</td>\n",
              "      <td>28</td>\n",
              "      <td>0</td>\n",
              "      <td>0</td>\n",
              "      <td>0</td>\n",
              "    </tr>\n",
              "  </tbody>\n",
              "</table>\n",
              "<p>5 rows × 27 columns</p>\n",
              "</div>"
            ],
            "text/plain": [
              "                 C1      C2  C3      N1       N2       N3      N4     N5  \\\n",
              "0  3139363536333839  323531  33   83,74  3172,92   181,48   24,83    9,6   \n",
              "1  3437333830323633  343835  31    1,46  1273,88    92,11  211,78  28,98   \n",
              "2  3134323931353339  323531  33       0    31,95   763,19   48,13  77,22   \n",
              "3  3431333831343031  343433  31  117,49   529,19   1506,4  127,67   49,3   \n",
              "4  3233343933313234  343835  31       0    38,24  3493,18  389,98  72,78   \n",
              "\n",
              "      N6     N7  ... N15 N16 N17  N18 N19  N20  N21  N22  N23  TARGET  \n",
              "0      0      0  ...   7   0   0   36   7   36    7    0    0       0  \n",
              "1   5,75  13,85  ...  18   5   6   52  12   57   18    0    0       0  \n",
              "2   9,33    4,9  ...  24  18   6   46  18   64   24    0    0       0  \n",
              "3   6,25    0,2  ...  57   4   1  142  56  148   57    0    0       0  \n",
              "4  16,72   4,28  ...  28  17   5   69  23   86   28    0    0       0  \n",
              "\n",
              "[5 rows x 27 columns]"
            ]
          },
          "execution_count": 32,
          "metadata": {},
          "output_type": "execute_result"
        }
      ],
      "source": [
        "data = pd.read_csv('train.csv', sep=';')\n",
        "\n",
        "data.head()"
      ]
    },
    {
      "cell_type": "code",
      "execution_count": null,
      "metadata": {
        "id": "qHyBUXaH754Z",
        "outputId": "6d187611-dfb9-44b0-be69-cd7cb8d034d2"
      },
      "outputs": [
        {
          "data": {
            "text/plain": [
              "(514009, 27)"
            ]
          },
          "execution_count": 33,
          "metadata": {},
          "output_type": "execute_result"
        }
      ],
      "source": [
        "data.shape"
      ]
    },
    {
      "cell_type": "code",
      "execution_count": null,
      "metadata": {
        "id": "9jRKdnGA754Z",
        "outputId": "77636df6-6269-4c52-b386-bc4361495fa0"
      },
      "outputs": [
        {
          "name": "stdout",
          "output_type": "stream",
          "text": [
            "<class 'pandas.core.frame.DataFrame'>\n",
            "RangeIndex: 514009 entries, 0 to 514008\n",
            "Data columns (total 27 columns):\n",
            " #   Column  Non-Null Count   Dtype \n",
            "---  ------  --------------   ----- \n",
            " 0   C1      514009 non-null  int64 \n",
            " 1   C2      514009 non-null  int64 \n",
            " 2   C3      514009 non-null  int64 \n",
            " 3   N1      514009 non-null  object\n",
            " 4   N2      514009 non-null  object\n",
            " 5   N3      514009 non-null  object\n",
            " 6   N4      514009 non-null  object\n",
            " 7   N5      514009 non-null  object\n",
            " 8   N6      514009 non-null  object\n",
            " 9   N7      514009 non-null  object\n",
            " 10  N8      514009 non-null  object\n",
            " 11  N9      514009 non-null  object\n",
            " 12  N10     514009 non-null  object\n",
            " 13  N11     514009 non-null  object\n",
            " 14  N12     514009 non-null  object\n",
            " 15  N13     514009 non-null  object\n",
            " 16  N14     514009 non-null  int64 \n",
            " 17  N15     514009 non-null  int64 \n",
            " 18  N16     514009 non-null  int64 \n",
            " 19  N17     514009 non-null  int64 \n",
            " 20  N18     514009 non-null  int64 \n",
            " 21  N19     514009 non-null  int64 \n",
            " 22  N20     514009 non-null  int64 \n",
            " 23  N21     514009 non-null  int64 \n",
            " 24  N22     514009 non-null  int64 \n",
            " 25  N23     514009 non-null  int64 \n",
            " 26  TARGET  514009 non-null  int64 \n",
            "dtypes: int64(14), object(13)\n",
            "memory usage: 105.9+ MB\n"
          ]
        }
      ],
      "source": [
        "data.info()"
      ]
    },
    {
      "cell_type": "code",
      "execution_count": null,
      "metadata": {
        "id": "UQJHD2vF754Z",
        "outputId": "32a30ab9-ac2c-45dd-ff08-8801b569ccae"
      },
      "outputs": [
        {
          "data": {
            "text/html": [
              "<div>\n",
              "<style scoped>\n",
              "    .dataframe tbody tr th:only-of-type {\n",
              "        vertical-align: middle;\n",
              "    }\n",
              "\n",
              "    .dataframe tbody tr th {\n",
              "        vertical-align: top;\n",
              "    }\n",
              "\n",
              "    .dataframe thead th {\n",
              "        text-align: right;\n",
              "    }\n",
              "</style>\n",
              "<table border=\"1\" class=\"dataframe\">\n",
              "  <thead>\n",
              "    <tr style=\"text-align: right;\">\n",
              "      <th></th>\n",
              "      <th>C1</th>\n",
              "      <th>C2</th>\n",
              "      <th>C3</th>\n",
              "      <th>N14</th>\n",
              "      <th>N15</th>\n",
              "      <th>N16</th>\n",
              "      <th>N17</th>\n",
              "      <th>N18</th>\n",
              "      <th>N19</th>\n",
              "      <th>N20</th>\n",
              "      <th>N21</th>\n",
              "      <th>N22</th>\n",
              "      <th>N23</th>\n",
              "      <th>TARGET</th>\n",
              "    </tr>\n",
              "  </thead>\n",
              "  <tbody>\n",
              "    <tr>\n",
              "      <th>count</th>\n",
              "      <td>5.140090e+05</td>\n",
              "      <td>514009.000000</td>\n",
              "      <td>514009.000000</td>\n",
              "      <td>514009.000000</td>\n",
              "      <td>514009.000000</td>\n",
              "      <td>514009.000000</td>\n",
              "      <td>514009.000000</td>\n",
              "      <td>514009.00000</td>\n",
              "      <td>514009.000000</td>\n",
              "      <td>514009.000000</td>\n",
              "      <td>514009.000000</td>\n",
              "      <td>514009.000000</td>\n",
              "      <td>514009.000000</td>\n",
              "      <td>514009.000000</td>\n",
              "    </tr>\n",
              "    <tr>\n",
              "      <th>mean</th>\n",
              "      <td>3.125269e+15</td>\n",
              "      <td>327890.745425</td>\n",
              "      <td>31.630411</td>\n",
              "      <td>49.656251</td>\n",
              "      <td>29.079176</td>\n",
              "      <td>10.447070</td>\n",
              "      <td>7.747530</td>\n",
              "      <td>38.66520</td>\n",
              "      <td>21.243424</td>\n",
              "      <td>49.609273</td>\n",
              "      <td>29.059777</td>\n",
              "      <td>0.046978</td>\n",
              "      <td>0.019398</td>\n",
              "      <td>0.049307</td>\n",
              "    </tr>\n",
              "    <tr>\n",
              "      <th>std</th>\n",
              "      <td>8.589417e+14</td>\n",
              "      <td>51107.511245</td>\n",
              "      <td>0.929149</td>\n",
              "      <td>58.781180</td>\n",
              "      <td>31.241034</td>\n",
              "      <td>14.888752</td>\n",
              "      <td>11.964678</td>\n",
              "      <td>50.26614</td>\n",
              "      <td>24.155985</td>\n",
              "      <td>58.757945</td>\n",
              "      <td>31.233367</td>\n",
              "      <td>0.708441</td>\n",
              "      <td>0.349181</td>\n",
              "      <td>0.216507</td>\n",
              "    </tr>\n",
              "    <tr>\n",
              "      <th>min</th>\n",
              "      <td>3.530330e+05</td>\n",
              "      <td>3138.000000</td>\n",
              "      <td>31.000000</td>\n",
              "      <td>0.000000</td>\n",
              "      <td>0.000000</td>\n",
              "      <td>0.000000</td>\n",
              "      <td>0.000000</td>\n",
              "      <td>0.00000</td>\n",
              "      <td>0.000000</td>\n",
              "      <td>0.000000</td>\n",
              "      <td>0.000000</td>\n",
              "      <td>0.000000</td>\n",
              "      <td>0.000000</td>\n",
              "      <td>0.000000</td>\n",
              "    </tr>\n",
              "    <tr>\n",
              "      <th>25%</th>\n",
              "      <td>3.231393e+15</td>\n",
              "      <td>323531.000000</td>\n",
              "      <td>31.000000</td>\n",
              "      <td>4.000000</td>\n",
              "      <td>8.000000</td>\n",
              "      <td>0.000000</td>\n",
              "      <td>1.000000</td>\n",
              "      <td>2.00000</td>\n",
              "      <td>4.000000</td>\n",
              "      <td>4.000000</td>\n",
              "      <td>8.000000</td>\n",
              "      <td>0.000000</td>\n",
              "      <td>0.000000</td>\n",
              "      <td>0.000000</td>\n",
              "    </tr>\n",
              "    <tr>\n",
              "      <th>50%</th>\n",
              "      <td>3.337374e+15</td>\n",
              "      <td>343230.000000</td>\n",
              "      <td>31.000000</td>\n",
              "      <td>32.000000</td>\n",
              "      <td>20.000000</td>\n",
              "      <td>5.000000</td>\n",
              "      <td>4.000000</td>\n",
              "      <td>21.00000</td>\n",
              "      <td>14.000000</td>\n",
              "      <td>32.000000</td>\n",
              "      <td>20.000000</td>\n",
              "      <td>0.000000</td>\n",
              "      <td>0.000000</td>\n",
              "      <td>0.000000</td>\n",
              "    </tr>\n",
              "    <tr>\n",
              "      <th>75%</th>\n",
              "      <td>3.437364e+15</td>\n",
              "      <td>343636.000000</td>\n",
              "      <td>33.000000</td>\n",
              "      <td>73.000000</td>\n",
              "      <td>40.000000</td>\n",
              "      <td>15.000000</td>\n",
              "      <td>10.000000</td>\n",
              "      <td>56.00000</td>\n",
              "      <td>30.000000</td>\n",
              "      <td>73.000000</td>\n",
              "      <td>40.000000</td>\n",
              "      <td>0.000000</td>\n",
              "      <td>0.000000</td>\n",
              "      <td>0.000000</td>\n",
              "    </tr>\n",
              "    <tr>\n",
              "      <th>max</th>\n",
              "      <td>3.536383e+15</td>\n",
              "      <td>353036.000000</td>\n",
              "      <td>33.000000</td>\n",
              "      <td>1346.000000</td>\n",
              "      <td>1258.000000</td>\n",
              "      <td>430.000000</td>\n",
              "      <td>499.000000</td>\n",
              "      <td>1109.00000</td>\n",
              "      <td>1024.000000</td>\n",
              "      <td>1346.000000</td>\n",
              "      <td>1258.000000</td>\n",
              "      <td>118.000000</td>\n",
              "      <td>99.000000</td>\n",
              "      <td>1.000000</td>\n",
              "    </tr>\n",
              "  </tbody>\n",
              "</table>\n",
              "</div>"
            ],
            "text/plain": [
              "                 C1             C2             C3            N14  \\\n",
              "count  5.140090e+05  514009.000000  514009.000000  514009.000000   \n",
              "mean   3.125269e+15  327890.745425      31.630411      49.656251   \n",
              "std    8.589417e+14   51107.511245       0.929149      58.781180   \n",
              "min    3.530330e+05    3138.000000      31.000000       0.000000   \n",
              "25%    3.231393e+15  323531.000000      31.000000       4.000000   \n",
              "50%    3.337374e+15  343230.000000      31.000000      32.000000   \n",
              "75%    3.437364e+15  343636.000000      33.000000      73.000000   \n",
              "max    3.536383e+15  353036.000000      33.000000    1346.000000   \n",
              "\n",
              "                 N15            N16            N17           N18  \\\n",
              "count  514009.000000  514009.000000  514009.000000  514009.00000   \n",
              "mean       29.079176      10.447070       7.747530      38.66520   \n",
              "std        31.241034      14.888752      11.964678      50.26614   \n",
              "min         0.000000       0.000000       0.000000       0.00000   \n",
              "25%         8.000000       0.000000       1.000000       2.00000   \n",
              "50%        20.000000       5.000000       4.000000      21.00000   \n",
              "75%        40.000000      15.000000      10.000000      56.00000   \n",
              "max      1258.000000     430.000000     499.000000    1109.00000   \n",
              "\n",
              "                 N19            N20            N21            N22  \\\n",
              "count  514009.000000  514009.000000  514009.000000  514009.000000   \n",
              "mean       21.243424      49.609273      29.059777       0.046978   \n",
              "std        24.155985      58.757945      31.233367       0.708441   \n",
              "min         0.000000       0.000000       0.000000       0.000000   \n",
              "25%         4.000000       4.000000       8.000000       0.000000   \n",
              "50%        14.000000      32.000000      20.000000       0.000000   \n",
              "75%        30.000000      73.000000      40.000000       0.000000   \n",
              "max      1024.000000    1346.000000    1258.000000     118.000000   \n",
              "\n",
              "                 N23         TARGET  \n",
              "count  514009.000000  514009.000000  \n",
              "mean        0.019398       0.049307  \n",
              "std         0.349181       0.216507  \n",
              "min         0.000000       0.000000  \n",
              "25%         0.000000       0.000000  \n",
              "50%         0.000000       0.000000  \n",
              "75%         0.000000       0.000000  \n",
              "max        99.000000       1.000000  "
            ]
          },
          "execution_count": 35,
          "metadata": {},
          "output_type": "execute_result"
        }
      ],
      "source": [
        "data.describe()"
      ]
    },
    {
      "cell_type": "code",
      "execution_count": null,
      "metadata": {
        "id": "58qExSwS754Z"
      },
      "outputs": [],
      "source": [
        "# Dropping unneeded column:\n",
        "data = data.drop(['C1'], axis=1)"
      ]
    },
    {
      "cell_type": "code",
      "execution_count": null,
      "metadata": {
        "id": "P74sey8I754a",
        "outputId": "2fe5afd9-df59-44d6-f11c-9ee384cbd350"
      },
      "outputs": [
        {
          "data": {
            "text/plain": [
              "<AxesSubplot:>"
            ]
          },
          "execution_count": 37,
          "metadata": {},
          "output_type": "execute_result"
        },
        {
          "data": {
            "image/png": "[encoded data removed]",
            "text/plain": [
              "<Figure size 1800x720 with 2 Axes>"
            ]
          },
          "metadata": {
            "needs_background": "light"
          },
          "output_type": "display_data"
        }
      ],
      "source": [
        "import missingno as msno\n",
        "msno.matrix(data)"
      ]
    },
    {
      "cell_type": "code",
      "execution_count": null,
      "metadata": {
        "id": "EOz21bdp754a",
        "outputId": "fc341f7a-bd47-43af-a83c-7c341b12dfce"
      },
      "outputs": [
        {
          "data": {
            "text/html": [
              "<div>\n",
              "<style scoped>\n",
              "    .dataframe tbody tr th:only-of-type {\n",
              "        vertical-align: middle;\n",
              "    }\n",
              "\n",
              "    .dataframe tbody tr th {\n",
              "        vertical-align: top;\n",
              "    }\n",
              "\n",
              "    .dataframe thead th {\n",
              "        text-align: right;\n",
              "    }\n",
              "</style>\n",
              "<table border=\"1\" class=\"dataframe\">\n",
              "  <thead>\n",
              "    <tr style=\"text-align: right;\">\n",
              "      <th></th>\n",
              "      <th>N1</th>\n",
              "      <th>N2</th>\n",
              "      <th>N3</th>\n",
              "      <th>N4</th>\n",
              "      <th>N5</th>\n",
              "      <th>N6</th>\n",
              "      <th>N7</th>\n",
              "      <th>N8</th>\n",
              "      <th>N9</th>\n",
              "      <th>N10</th>\n",
              "      <th>N11</th>\n",
              "      <th>N12</th>\n",
              "      <th>N13</th>\n",
              "    </tr>\n",
              "  </thead>\n",
              "  <tbody>\n",
              "    <tr>\n",
              "      <th>0</th>\n",
              "      <td>83,74</td>\n",
              "      <td>3172,92</td>\n",
              "      <td>181,48</td>\n",
              "      <td>24,83</td>\n",
              "      <td>9,6</td>\n",
              "      <td>0</td>\n",
              "      <td>0</td>\n",
              "      <td>24,83</td>\n",
              "      <td>9,6</td>\n",
              "      <td>24,83</td>\n",
              "      <td>9,6</td>\n",
              "      <td>0</td>\n",
              "      <td>0</td>\n",
              "    </tr>\n",
              "    <tr>\n",
              "      <th>1</th>\n",
              "      <td>1,46</td>\n",
              "      <td>1273,88</td>\n",
              "      <td>92,11</td>\n",
              "      <td>211,78</td>\n",
              "      <td>28,98</td>\n",
              "      <td>5,75</td>\n",
              "      <td>13,85</td>\n",
              "      <td>206,03</td>\n",
              "      <td>15,13</td>\n",
              "      <td>211,78</td>\n",
              "      <td>28,98</td>\n",
              "      <td>0</td>\n",
              "      <td>0</td>\n",
              "    </tr>\n",
              "    <tr>\n",
              "      <th>2</th>\n",
              "      <td>0</td>\n",
              "      <td>31,95</td>\n",
              "      <td>763,19</td>\n",
              "      <td>48,13</td>\n",
              "      <td>77,22</td>\n",
              "      <td>9,33</td>\n",
              "      <td>4,9</td>\n",
              "      <td>38,8</td>\n",
              "      <td>72,32</td>\n",
              "      <td>48,13</td>\n",
              "      <td>77,22</td>\n",
              "      <td>0</td>\n",
              "      <td>0</td>\n",
              "    </tr>\n",
              "    <tr>\n",
              "      <th>3</th>\n",
              "      <td>117,49</td>\n",
              "      <td>529,19</td>\n",
              "      <td>1506,4</td>\n",
              "      <td>127,67</td>\n",
              "      <td>49,3</td>\n",
              "      <td>6,25</td>\n",
              "      <td>0,2</td>\n",
              "      <td>120,07</td>\n",
              "      <td>49,1</td>\n",
              "      <td>127,67</td>\n",
              "      <td>49,3</td>\n",
              "      <td>0</td>\n",
              "      <td>0</td>\n",
              "    </tr>\n",
              "    <tr>\n",
              "      <th>4</th>\n",
              "      <td>0</td>\n",
              "      <td>38,24</td>\n",
              "      <td>3493,18</td>\n",
              "      <td>389,98</td>\n",
              "      <td>72,78</td>\n",
              "      <td>16,72</td>\n",
              "      <td>4,28</td>\n",
              "      <td>373,27</td>\n",
              "      <td>68,5</td>\n",
              "      <td>389,98</td>\n",
              "      <td>72,78</td>\n",
              "      <td>0</td>\n",
              "      <td>0</td>\n",
              "    </tr>\n",
              "  </tbody>\n",
              "</table>\n",
              "</div>"
            ],
            "text/plain": [
              "       N1       N2       N3      N4     N5     N6     N7      N8     N9  \\\n",
              "0   83,74  3172,92   181,48   24,83    9,6      0      0   24,83    9,6   \n",
              "1    1,46  1273,88    92,11  211,78  28,98   5,75  13,85  206,03  15,13   \n",
              "2       0    31,95   763,19   48,13  77,22   9,33    4,9    38,8  72,32   \n",
              "3  117,49   529,19   1506,4  127,67   49,3   6,25    0,2  120,07   49,1   \n",
              "4       0    38,24  3493,18  389,98  72,78  16,72   4,28  373,27   68,5   \n",
              "\n",
              "      N10    N11 N12 N13  \n",
              "0   24,83    9,6   0   0  \n",
              "1  211,78  28,98   0   0  \n",
              "2   48,13  77,22   0   0  \n",
              "3  127,67   49,3   0   0  \n",
              "4  389,98  72,78   0   0  "
            ]
          },
          "execution_count": 38,
          "metadata": {},
          "output_type": "execute_result"
        }
      ],
      "source": [
        "# We saw that N1 till N14 cols are writen as an Object,so checking:\n",
        "df = data.iloc[:, 2:15]\n",
        "df.head()"
      ]
    },
    {
      "cell_type": "code",
      "execution_count": null,
      "metadata": {
        "id": "y63eFWri754a",
        "outputId": "07ac9f4b-4f03-4557-c897-84f3a881040d"
      },
      "outputs": [
        {
          "data": {
            "text/html": [
              "<div>\n",
              "<style scoped>\n",
              "    .dataframe tbody tr th:only-of-type {\n",
              "        vertical-align: middle;\n",
              "    }\n",
              "\n",
              "    .dataframe tbody tr th {\n",
              "        vertical-align: top;\n",
              "    }\n",
              "\n",
              "    .dataframe thead th {\n",
              "        text-align: right;\n",
              "    }\n",
              "</style>\n",
              "<table border=\"1\" class=\"dataframe\">\n",
              "  <thead>\n",
              "    <tr style=\"text-align: right;\">\n",
              "      <th></th>\n",
              "      <th>C2</th>\n",
              "      <th>C3</th>\n",
              "      <th>N1</th>\n",
              "      <th>N2</th>\n",
              "      <th>N3</th>\n",
              "      <th>N4</th>\n",
              "      <th>N5</th>\n",
              "      <th>N6</th>\n",
              "      <th>N7</th>\n",
              "      <th>N8</th>\n",
              "      <th>...</th>\n",
              "      <th>N15</th>\n",
              "      <th>N16</th>\n",
              "      <th>N17</th>\n",
              "      <th>N18</th>\n",
              "      <th>N19</th>\n",
              "      <th>N20</th>\n",
              "      <th>N21</th>\n",
              "      <th>N22</th>\n",
              "      <th>N23</th>\n",
              "      <th>TARGET</th>\n",
              "    </tr>\n",
              "  </thead>\n",
              "  <tbody>\n",
              "    <tr>\n",
              "      <th>0</th>\n",
              "      <td>323531</td>\n",
              "      <td>33</td>\n",
              "      <td>8374</td>\n",
              "      <td>317292</td>\n",
              "      <td>18148</td>\n",
              "      <td>2483</td>\n",
              "      <td>96</td>\n",
              "      <td>0</td>\n",
              "      <td>0</td>\n",
              "      <td>2483</td>\n",
              "      <td>...</td>\n",
              "      <td>7</td>\n",
              "      <td>0</td>\n",
              "      <td>0</td>\n",
              "      <td>36</td>\n",
              "      <td>7</td>\n",
              "      <td>36</td>\n",
              "      <td>7</td>\n",
              "      <td>0</td>\n",
              "      <td>0</td>\n",
              "      <td>0</td>\n",
              "    </tr>\n",
              "    <tr>\n",
              "      <th>1</th>\n",
              "      <td>343835</td>\n",
              "      <td>31</td>\n",
              "      <td>146</td>\n",
              "      <td>127388</td>\n",
              "      <td>9211</td>\n",
              "      <td>21178</td>\n",
              "      <td>2898</td>\n",
              "      <td>575</td>\n",
              "      <td>1385</td>\n",
              "      <td>20603</td>\n",
              "      <td>...</td>\n",
              "      <td>18</td>\n",
              "      <td>5</td>\n",
              "      <td>6</td>\n",
              "      <td>52</td>\n",
              "      <td>12</td>\n",
              "      <td>57</td>\n",
              "      <td>18</td>\n",
              "      <td>0</td>\n",
              "      <td>0</td>\n",
              "      <td>0</td>\n",
              "    </tr>\n",
              "    <tr>\n",
              "      <th>2</th>\n",
              "      <td>323531</td>\n",
              "      <td>33</td>\n",
              "      <td>0</td>\n",
              "      <td>3195</td>\n",
              "      <td>76319</td>\n",
              "      <td>4813</td>\n",
              "      <td>7722</td>\n",
              "      <td>933</td>\n",
              "      <td>49</td>\n",
              "      <td>388</td>\n",
              "      <td>...</td>\n",
              "      <td>24</td>\n",
              "      <td>18</td>\n",
              "      <td>6</td>\n",
              "      <td>46</td>\n",
              "      <td>18</td>\n",
              "      <td>64</td>\n",
              "      <td>24</td>\n",
              "      <td>0</td>\n",
              "      <td>0</td>\n",
              "      <td>0</td>\n",
              "    </tr>\n",
              "    <tr>\n",
              "      <th>3</th>\n",
              "      <td>343433</td>\n",
              "      <td>31</td>\n",
              "      <td>11749</td>\n",
              "      <td>52919</td>\n",
              "      <td>15064</td>\n",
              "      <td>12767</td>\n",
              "      <td>493</td>\n",
              "      <td>625</td>\n",
              "      <td>2</td>\n",
              "      <td>12007</td>\n",
              "      <td>...</td>\n",
              "      <td>57</td>\n",
              "      <td>4</td>\n",
              "      <td>1</td>\n",
              "      <td>142</td>\n",
              "      <td>56</td>\n",
              "      <td>148</td>\n",
              "      <td>57</td>\n",
              "      <td>0</td>\n",
              "      <td>0</td>\n",
              "      <td>0</td>\n",
              "    </tr>\n",
              "    <tr>\n",
              "      <th>4</th>\n",
              "      <td>343835</td>\n",
              "      <td>31</td>\n",
              "      <td>0</td>\n",
              "      <td>3824</td>\n",
              "      <td>349318</td>\n",
              "      <td>38998</td>\n",
              "      <td>7278</td>\n",
              "      <td>1672</td>\n",
              "      <td>428</td>\n",
              "      <td>37327</td>\n",
              "      <td>...</td>\n",
              "      <td>28</td>\n",
              "      <td>17</td>\n",
              "      <td>5</td>\n",
              "      <td>69</td>\n",
              "      <td>23</td>\n",
              "      <td>86</td>\n",
              "      <td>28</td>\n",
              "      <td>0</td>\n",
              "      <td>0</td>\n",
              "      <td>0</td>\n",
              "    </tr>\n",
              "  </tbody>\n",
              "</table>\n",
              "<p>5 rows × 26 columns</p>\n",
              "</div>"
            ],
            "text/plain": [
              "       C2  C3     N1      N2      N3     N4    N5    N6    N7     N8  ...  \\\n",
              "0  323531  33   8374  317292   18148   2483    96     0     0   2483  ...   \n",
              "1  343835  31    146  127388    9211  21178  2898   575  1385  20603  ...   \n",
              "2  323531  33      0    3195   76319   4813  7722   933    49    388  ...   \n",
              "3  343433  31  11749   52919   15064  12767   493   625     2  12007  ...   \n",
              "4  343835  31      0    3824  349318  38998  7278  1672   428  37327  ...   \n",
              "\n",
              "   N15  N16  N17  N18  N19  N20  N21  N22  N23  TARGET  \n",
              "0    7    0    0   36    7   36    7    0    0       0  \n",
              "1   18    5    6   52   12   57   18    0    0       0  \n",
              "2   24   18    6   46   18   64   24    0    0       0  \n",
              "3   57    4    1  142   56  148   57    0    0       0  \n",
              "4   28   17    5   69   23   86   28    0    0       0  \n",
              "\n",
              "[5 rows x 26 columns]"
            ]
          },
          "execution_count": 39,
          "metadata": {},
          "output_type": "execute_result"
        }
      ],
      "source": [
        "columns = list(data.columns)\n",
        "\n",
        "#change the first and last column names below as required\n",
        "start_column = columns.index('N1')\n",
        "end_column   = columns.index('N13')\n",
        "\n",
        "for index, col in enumerate(columns):\n",
        "    if (start_column <= index) & (index <= end_column):\n",
        "        data[col] = data[col].apply(lambda val: val.replace(',', ''))\n",
        "        data[col] = pd.to_numeric(data[col])\n",
        "        \n",
        "        #data[col] = data[col].astype(float)\n",
        "data.head()"
      ]
    },
    {
      "cell_type": "code",
      "execution_count": null,
      "metadata": {
        "id": "7XJNek5E754a",
        "outputId": "34010b35-7844-4670-b60c-bff3b89887de"
      },
      "outputs": [
        {
          "data": {
            "text/plain": [
              "C2        int64\n",
              "C3        int64\n",
              "N1        int64\n",
              "N2        int64\n",
              "N3        int64\n",
              "N4        int64\n",
              "N5        int64\n",
              "N6        int64\n",
              "N7        int64\n",
              "N8        int64\n",
              "N9        int64\n",
              "N10       int64\n",
              "N11       int64\n",
              "N12       int64\n",
              "N13       int64\n",
              "N14       int64\n",
              "N15       int64\n",
              "N16       int64\n",
              "N17       int64\n",
              "N18       int64\n",
              "N19       int64\n",
              "N20       int64\n",
              "N21       int64\n",
              "N22       int64\n",
              "N23       int64\n",
              "TARGET    int64\n",
              "dtype: object"
            ]
          },
          "execution_count": 41,
          "metadata": {},
          "output_type": "execute_result"
        }
      ],
      "source": [
        "# checking DATATYPES CHANGED:\n",
        "data.dtypes"
      ]
    },
    {
      "cell_type": "markdown",
      "metadata": {
        "id": "x2SnzZWl754a"
      },
      "source": [
        "# 4. Exploratory Data Analysis"
      ]
    },
    {
      "cell_type": "markdown",
      "metadata": {
        "id": "BYPysZUx754b"
      },
      "source": [
        "## 1. Pie Chart"
      ]
    },
    {
      "cell_type": "code",
      "execution_count": null,
      "metadata": {
        "id": "CmnaImLg754b",
        "outputId": "2e8aa3df-f640-4116-ae44-680c484e1d02"
      },
      "outputs": [
        {
          "data": {
            "text/plain": [
              "0    488665\n",
              "1     25344\n",
              "Name: TARGET, dtype: int64"
            ]
          },
          "execution_count": 42,
          "metadata": {},
          "output_type": "execute_result"
        }
      ],
      "source": [
        "# TERGET VALUES UNIQUE NUMBERS:\n",
        "data['TARGET'].value_counts()"
      ]
    },
    {
      "cell_type": "markdown",
      "metadata": {
        "id": "JWKu2LSY754b"
      },
      "source": [
        "**Here, WE CAN SEE THAT Zeros-0 - **"
      ]
    },
    {
      "cell_type": "code",
      "execution_count": null,
      "metadata": {
        "id": "VRrWJ-qv754b",
        "outputId": "95b14b28-4fbb-4f4a-d0e6-5ae19c10127b"
      },
      "outputs": [
        {
          "data": {
            "image/png": "[encoded data removed]",
            "text/plain": [
              "<Figure size 432x288 with 1 Axes>"
            ]
          },
          "metadata": {},
          "output_type": "display_data"
        }
      ],
      "source": [
        "import matplotlib.pyplot as plt\n",
        "import numpy as np\n",
        "y = np.array([ 488665, 25344])\n",
        "mylabels = [\"NO\", \"Yes\"]\n",
        "color=['fuchsia','ghostwhite']\n",
        "plt.pie(y, labels = mylabels,colors=color,autopct='%.0f%%')\n",
        "plt.title('The Ratio of Target', fontsize=20)\n",
        "plt.show()"
      ]
    },
    {
      "cell_type": "markdown",
      "metadata": {
        "id": "lT1AG8IM754b"
      },
      "source": [
        "## 2. Correlation Matrix Plot"
      ]
    },
    {
      "cell_type": "code",
      "execution_count": null,
      "metadata": {
        "id": "bGpk5Zo3754b",
        "outputId": "f1f172ba-769f-4e18-d4aa-b2ec9ae9f532"
      },
      "outputs": [
        {
          "data": {
            "image/png": "[encoded data removed]",
            "text/plain": [
              "<Figure size 1440x1152 with 2 Axes>"
            ]
          },
          "metadata": {
            "needs_background": "light"
          },
          "output_type": "display_data"
        }
      ],
      "source": [
        "# PLOTTIG GRAPHS\n",
        "f, (ax) = plt.subplots(1, 1, figsize=(20,16))\n",
        "sub_sample_corr = data.corr()\n",
        "sns.heatmap(sub_sample_corr, annot_kws={'size':16}, ax=ax)\n",
        "ax.set_title('Correlation Matrix', fontsize=30)\n",
        "plt.show()"
      ]
    },
    {
      "cell_type": "markdown",
      "metadata": {
        "id": "KgiFkoE8754b"
      },
      "source": [
        "## 3.Scatter plots for N1,N12,N22, N23:"
      ]
    },
    {
      "cell_type": "code",
      "execution_count": null,
      "metadata": {
        "id": "0-Eo8pSY754c",
        "outputId": "19cfa4e4-dec7-4749-a980-ec18a787f948"
      },
      "outputs": [
        {
          "data": {
            "text/plain": [
              "<AxesSubplot:xlabel='TARGET', ylabel='N23'>"
            ]
          },
          "execution_count": 45,
          "metadata": {},
          "output_type": "execute_result"
        },
        {
          "data": {
            "image/png": "[encoded data removed]",
            "text/plain": [
              "<Figure size 432x288 with 1 Axes>"
            ]
          },
          "metadata": {
            "needs_background": "light"
          },
          "output_type": "display_data"
        },
        {
          "data": {
            "image/png": "[encoded data removed]",
            "text/plain": [
              "<Figure size 432x288 with 1 Axes>"
            ]
          },
          "metadata": {
            "needs_background": "light"
          },
          "output_type": "display_data"
        },
        {
          "data": {
            "image/png": "[encoded data removed]",
            "text/plain": [
              "<Figure size 432x288 with 1 Axes>"
            ]
          },
          "metadata": {
            "needs_background": "light"
          },
          "output_type": "display_data"
        },
        {
          "data": {
            "image/png": "[encoded data removed]",
            "text/plain": [
              "<Figure size 432x288 with 1 Axes>"
            ]
          },
          "metadata": {
            "needs_background": "light"
          },
          "output_type": "display_data"
        },
        {
          "data": {
            "image/png": "[encoded data removed]",
            "text/plain": [
              "<Figure size 432x288 with 1 Axes>"
            ]
          },
          "metadata": {
            "needs_background": "light"
          },
          "output_type": "display_data"
        }
      ],
      "source": [
        "# PLOTTING SCATTER PLOTS TO SEE RANGES\n",
        "data.plot.scatter(x='TARGET',y=\"N1\",color='r')\n",
        "data.plot.scatter(x='TARGET',y=\"N12\",color='r')\n",
        "data.plot.scatter(x='TARGET',y=\"N13\",color='r')\n",
        "data.plot.scatter(x='TARGET',y=\"N22\",color='r')\n",
        "data.plot.scatter(x='TARGET',y=\"N23\",color='r')"
      ]
    },
    {
      "cell_type": "code",
      "execution_count": null,
      "metadata": {
        "id": "oMkat1Yf754c",
        "outputId": "ff439312-8d99-4eab-b0ba-61c13cf8f451"
      },
      "outputs": [
        {
          "data": {
            "text/html": [
              "<div>\n",
              "<style scoped>\n",
              "    .dataframe tbody tr th:only-of-type {\n",
              "        vertical-align: middle;\n",
              "    }\n",
              "\n",
              "    .dataframe tbody tr th {\n",
              "        vertical-align: top;\n",
              "    }\n",
              "\n",
              "    .dataframe thead th {\n",
              "        text-align: right;\n",
              "    }\n",
              "</style>\n",
              "<table border=\"1\" class=\"dataframe\">\n",
              "  <thead>\n",
              "    <tr style=\"text-align: right;\">\n",
              "      <th></th>\n",
              "      <th>C2</th>\n",
              "      <th>C3</th>\n",
              "      <th>N1</th>\n",
              "      <th>N2</th>\n",
              "      <th>N3</th>\n",
              "      <th>N4</th>\n",
              "      <th>N5</th>\n",
              "      <th>N6</th>\n",
              "      <th>N7</th>\n",
              "      <th>N8</th>\n",
              "      <th>...</th>\n",
              "      <th>N14</th>\n",
              "      <th>N15</th>\n",
              "      <th>N16</th>\n",
              "      <th>N17</th>\n",
              "      <th>N18</th>\n",
              "      <th>N19</th>\n",
              "      <th>N20</th>\n",
              "      <th>N21</th>\n",
              "      <th>N22</th>\n",
              "      <th>N23</th>\n",
              "    </tr>\n",
              "    <tr>\n",
              "      <th>TARGET</th>\n",
              "      <th></th>\n",
              "      <th></th>\n",
              "      <th></th>\n",
              "      <th></th>\n",
              "      <th></th>\n",
              "      <th></th>\n",
              "      <th></th>\n",
              "      <th></th>\n",
              "      <th></th>\n",
              "      <th></th>\n",
              "      <th></th>\n",
              "      <th></th>\n",
              "      <th></th>\n",
              "      <th></th>\n",
              "      <th></th>\n",
              "      <th></th>\n",
              "      <th></th>\n",
              "      <th></th>\n",
              "      <th></th>\n",
              "      <th></th>\n",
              "      <th></th>\n",
              "    </tr>\n",
              "  </thead>\n",
              "  <tbody>\n",
              "    <tr>\n",
              "      <th>0</th>\n",
              "      <td>488665</td>\n",
              "      <td>488665</td>\n",
              "      <td>488665</td>\n",
              "      <td>488665</td>\n",
              "      <td>488665</td>\n",
              "      <td>488665</td>\n",
              "      <td>488665</td>\n",
              "      <td>488665</td>\n",
              "      <td>488665</td>\n",
              "      <td>488665</td>\n",
              "      <td>...</td>\n",
              "      <td>488665</td>\n",
              "      <td>488665</td>\n",
              "      <td>488665</td>\n",
              "      <td>488665</td>\n",
              "      <td>488665</td>\n",
              "      <td>488665</td>\n",
              "      <td>488665</td>\n",
              "      <td>488665</td>\n",
              "      <td>488665</td>\n",
              "      <td>488665</td>\n",
              "    </tr>\n",
              "    <tr>\n",
              "      <th>1</th>\n",
              "      <td>25344</td>\n",
              "      <td>25344</td>\n",
              "      <td>25344</td>\n",
              "      <td>25344</td>\n",
              "      <td>25344</td>\n",
              "      <td>25344</td>\n",
              "      <td>25344</td>\n",
              "      <td>25344</td>\n",
              "      <td>25344</td>\n",
              "      <td>25344</td>\n",
              "      <td>...</td>\n",
              "      <td>25344</td>\n",
              "      <td>25344</td>\n",
              "      <td>25344</td>\n",
              "      <td>25344</td>\n",
              "      <td>25344</td>\n",
              "      <td>25344</td>\n",
              "      <td>25344</td>\n",
              "      <td>25344</td>\n",
              "      <td>25344</td>\n",
              "      <td>25344</td>\n",
              "    </tr>\n",
              "  </tbody>\n",
              "</table>\n",
              "<p>2 rows × 25 columns</p>\n",
              "</div>"
            ],
            "text/plain": [
              "            C2      C3      N1      N2      N3      N4      N5      N6  \\\n",
              "TARGET                                                                   \n",
              "0       488665  488665  488665  488665  488665  488665  488665  488665   \n",
              "1        25344   25344   25344   25344   25344   25344   25344   25344   \n",
              "\n",
              "            N7      N8  ...     N14     N15     N16     N17     N18     N19  \\\n",
              "TARGET                  ...                                                   \n",
              "0       488665  488665  ...  488665  488665  488665  488665  488665  488665   \n",
              "1        25344   25344  ...   25344   25344   25344   25344   25344   25344   \n",
              "\n",
              "           N20     N21     N22     N23  \n",
              "TARGET                                  \n",
              "0       488665  488665  488665  488665  \n",
              "1        25344   25344   25344   25344  \n",
              "\n",
              "[2 rows x 25 columns]"
            ]
          },
          "execution_count": 46,
          "metadata": {},
          "output_type": "execute_result"
        }
      ],
      "source": [
        "data.groupby('TARGET').count()"
      ]
    },
    {
      "cell_type": "markdown",
      "metadata": {
        "id": "1Vm_fdhf754c"
      },
      "source": [
        "# 5.Creating different Models"
      ]
    },
    {
      "cell_type": "markdown",
      "metadata": {
        "id": "mLSQMC6I754c"
      },
      "source": [
        "## Train and Test Split:"
      ]
    },
    {
      "cell_type": "code",
      "execution_count": null,
      "metadata": {
        "id": "K5g66kwO754c",
        "outputId": "44b37d57-df20-4df4-ed2a-b60a3a5c8747"
      },
      "outputs": [
        {
          "name": "stdout",
          "output_type": "stream",
          "text": [
            "(359806, 25)\n",
            "(359806,)\n",
            "(154203, 25)\n",
            "(154203,)\n"
          ]
        }
      ],
      "source": [
        "# X and y arrays:\n",
        "X = data.drop(\"TARGET\", axis = 1) \n",
        "y = data[\"TARGET\"] \n",
        "\n",
        "X_train, X_test, y_train, y_test = train_test_split(X, y, test_size = 0.3)\n",
        "\n",
        "print(X_train.shape)\n",
        "print(y_train.shape)\n",
        "print(X_test.shape)\n",
        "print(y_test.shape)"
      ]
    },
    {
      "cell_type": "markdown",
      "metadata": {
        "id": "9M0zcSWs754c"
      },
      "source": [
        "## We used MinMaxScaller to normalize our data. \n",
        "+ #check this link: https://scikit-learn.org/stable/modules/generated/sklearn.preprocessing.MinMaxScaler.html"
      ]
    },
    {
      "cell_type": "code",
      "execution_count": null,
      "metadata": {
        "id": "r05bYi45754c"
      },
      "outputs": [],
      "source": [
        "# Scaling data\n",
        "sc = MinMaxScaler()\n",
        "\n",
        "X_train = sc.fit_transform(X_train)\n",
        "X_test = sc.transform(X_test)"
      ]
    },
    {
      "cell_type": "markdown",
      "metadata": {
        "id": "zFcRGxYI754c"
      },
      "source": [
        "## Creating NaiveBayse Model by using GaussianNB\n",
        "+ http://scikit-learn.org/stable/modules/naive_bayes.html"
      ]
    },
    {
      "cell_type": "code",
      "execution_count": null,
      "metadata": {
        "id": "zoP9vNml754d",
        "outputId": "d0137397-c4dd-49db-8e30-71ecf539637a"
      },
      "outputs": [
        {
          "name": "stdout",
          "output_type": "stream",
          "text": [
            "Accuracy on Train set 0.536\n",
            "Accuracy on Test set 0.535\n",
            "MSE on Test set 0.465\n",
            "Recall_score on Test set 0.879\n",
            "Precision_score on Test set 0.086\n",
            "f1_score on Test set 0.157\n",
            "Confusion_matrix on Test set [[75782 70804]\n",
            " [  924  6693]]\n"
          ]
        }
      ],
      "source": [
        "NaiveBayse_model = GaussianNB()\n",
        "# Fit the model using train sets\n",
        "NaiveBayse_model.fit(X_train, y_train)\n",
        "#prdicted values\n",
        "y_predict_NaiveBayse = NaiveBayse_model.predict(X_test)\n",
        "#checking accuracy of predicted values\n",
        "NaiveBayse_train_score = round(NaiveBayse_model.score(X_train,y_train),3)\n",
        "NaiveBayse_test_score = round(NaiveBayse_model.score(X_test,y_test),3)\n",
        "NaiveBayse_mse = round(mean_squared_error(y_test, y_predict_NaiveBayse),3)\n",
        "NaiveBayse_recall =  round(recall_score(y_test, y_predict_NaiveBayse),3)\n",
        "NaiveBayse_precision = round(precision_score(y_test, y_predict_NaiveBayse),3)\n",
        "NB_F1_score =  round(f1_score(y_test, y_predict_NaiveBayse),3)\n",
        "\n",
        "#Printing results\n",
        "print('Accuracy on Train set', NaiveBayse_train_score)\n",
        "print('Accuracy on Test set', NaiveBayse_test_score) \n",
        "print('MSE on Test set', NaiveBayse_mse) \n",
        "print('Recall_score on Test set', NaiveBayse_recall)\n",
        "print('Precision_score on Test set',NaiveBayse_precision)\n",
        "print('f1_score on Test set',NB_F1_score)\n",
        "print('Confusion_matrix on Test set',confusion_matrix(y_test, y_predict_NaiveBayse))"
      ]
    },
    {
      "cell_type": "markdown",
      "metadata": {
        "id": "gdOk9oGc754d"
      },
      "source": [
        "## Checking Area_under_curve on train and test data:"
      ]
    },
    {
      "cell_type": "code",
      "execution_count": null,
      "metadata": {
        "id": "WMnDawCO754d",
        "outputId": "f24d1b91-da66-47ce-eb7b-bc0908de404e"
      },
      "outputs": [
        {
          "name": "stdout",
          "output_type": "stream",
          "text": [
            "AUC on test set 0.826\n"
          ]
        },
        {
          "data": {
            "image/png": "[encoded data removed]",
            "text/plain": [
              "<Figure size 864x288 with 2 Axes>"
            ]
          },
          "metadata": {},
          "output_type": "display_data"
        }
      ],
      "source": [
        "# probability\n",
        "NB_probs_train = NaiveBayse_model.predict_proba(X_train)\n",
        "NB_probs_train = NB_probs_train[:, 1]\n",
        "NB_probs_test = NaiveBayse_model.predict_proba(X_test)\n",
        "NB_probs_test = NB_probs_test[:, 1]\n",
        "# plot\n",
        "plt.style.use('seaborn-whitegrid')\n",
        "fpr_train, tpr_train, thresholds_train = roc_curve(y_train, NB_probs_train)\n",
        "fpr_test, tpr_test, thresholds_test = roc_curve(y_test, NB_probs_test)\n",
        "fig, (ax1, ax2) = plt.subplots(1, 2,figsize=(12,4))\n",
        "ax1.plot([0, 1], [0, 1], linestyle='--');\n",
        "ax1.plot(fpr_train, tpr_train, marker='.');\n",
        "ax1.set_title('ROC_Curve on training set for Naive Bayse');\n",
        "ax2.plot([0, 1], [0, 1], linestyle='--');\n",
        "ax2.plot(fpr_test, tpr_test, marker='.');\n",
        "ax2.set_title('ROC_Curve on test set for Naive Bayse');\n",
        "auc_NaiveBayse_test = round(auc(fpr_test, tpr_test),3)\n",
        "print('AUC on test set',auc_NaiveBayse_test)"
      ]
    },
    {
      "cell_type": "markdown",
      "metadata": {
        "id": "bHwtnaIU754d"
      },
      "source": [
        "### Here, we can see that AUC SCORE is 82, which is Quite good"
      ]
    },
    {
      "cell_type": "markdown",
      "metadata": {
        "id": "u2uN35Dm754d"
      },
      "source": [
        "## Creating RandomForestClassifier Model:"
      ]
    },
    {
      "cell_type": "code",
      "execution_count": null,
      "metadata": {
        "id": "yE5uMMLK754d",
        "outputId": "1675aaa7-45f2-4fff-8878-10e4c120c0ff"
      },
      "outputs": [
        {
          "name": "stdout",
          "output_type": "stream",
          "text": [
            "Accuracy on Train set 0.952\n",
            "Accuracy on Test set 0.952\n",
            "MSE on Test set 0.048\n",
            "Recall_score on Test set 0.088\n",
            "Precision_score on Test set 0.579\n",
            "f1_score on Test set 0.152\n",
            "Confusion_matrix on Test set [[146100    486]\n",
            " [  6949    668]]\n"
          ]
        }
      ],
      "source": [
        "RF_model = RandomForestClassifier(random_state=0,max_depth= 10, max_features= 5,min_samples_leaf= 30, min_samples_split= 100, n_estimators= 500)\n",
        "\n",
        "RF_model.fit(X_train,y_train)\n",
        "y_pred_RF = RF_model.predict(X_test)\n",
        "\n",
        "#checking accuracy of predicted values\n",
        "RF_train_score = round(RF_model.score(X_train,y_train),3)\n",
        "RF_test_score = round(RF_model.score(X_test,y_test),3)\n",
        "RF_mse = round(mean_squared_error(y_test, y_pred_RF),3)\n",
        "RF_recall =  round(recall_score(y_test, y_pred_RF),3)\n",
        "RF_precision = round(precision_score(y_test, y_pred_RF),3)\n",
        "RF_F1_score =  round(f1_score(y_test, y_pred_RF),3)\n",
        "#Printing results\n",
        "print('Accuracy on Train set', RF_train_score)\n",
        "print('Accuracy on Test set', RF_test_score)\n",
        "print('MSE on Test set', RF_mse)\n",
        "print('Recall_score on Test set', RF_recall)\n",
        "print('Precision_score on Test set',RF_precision)\n",
        "print('f1_score on Test set',RF_F1_score)\n",
        "print('Confusion_matrix on Test set',confusion_matrix(y_test, y_pred_RF))"
      ]
    },
    {
      "cell_type": "markdown",
      "metadata": {
        "id": "JZvBAsoU754d"
      },
      "source": [
        "## Checking Area_under_curve on train and test data:"
      ]
    },
    {
      "cell_type": "code",
      "execution_count": null,
      "metadata": {
        "id": "KzIkdOFA754e",
        "outputId": "649a4a1a-e456-4f61-891a-ef76f8c3cc4d"
      },
      "outputs": [
        {
          "name": "stdout",
          "output_type": "stream",
          "text": [
            "AUC on test set 0.865\n"
          ]
        },
        {
          "data": {
            "image/png": "[encoded data removed]",
            "text/plain": [
              "<Figure size 864x288 with 2 Axes>"
            ]
          },
          "metadata": {},
          "output_type": "display_data"
        }
      ],
      "source": [
        "# probability\n",
        "probs_train = RF_model.predict_proba(X_train)\n",
        "probs_train = probs_train[:, 1]\n",
        "probs_test = RF_model.predict_proba(X_test)\n",
        "probs_test = probs_test[:, 1]\n",
        "# plot\n",
        "plt.style.use('seaborn-whitegrid')\n",
        "fpr_train, tpr_train, thresholds_train = roc_curve(y_train, probs_train)\n",
        "fpr_test, tpr_test, thresholds_test = roc_curve(y_test, probs_test)\n",
        "fig, (ax1, ax2) = plt.subplots(1, 2,figsize=(12,4))\n",
        "ax1.plot([0, 1], [0, 1], linestyle='--');\n",
        "ax1.plot(fpr_train, tpr_train, marker='.');\n",
        "ax1.set_title('ROC_Curve on training set for Random Forest');\n",
        "ax2.plot([0, 1], [0, 1], linestyle='--');\n",
        "ax2.plot(fpr_test, tpr_test, marker='.');\n",
        "ax2.set_title('ROC_Curve on test set for Random Forest');\n",
        "auc_RF_test = round(auc(fpr_test, tpr_test),3)\n",
        "print('AUC on test set',auc_RF_test)"
      ]
    },
    {
      "cell_type": "markdown",
      "metadata": {
        "id": "pNyAoCMi754e"
      },
      "source": [
        "## Here, auc is 0.86 is very well."
      ]
    },
    {
      "cell_type": "markdown",
      "metadata": {
        "id": "nK44VC4S754e"
      },
      "source": [
        "# Let's handle with Imbalanced Dataset, in order to make equal # of 0 and 1:\n",
        "## By using RandomOverSampler\n",
        "+ https://machinelearningmastery.com/random-oversampling-and-undersampling-for-imbalanced-classification/"
      ]
    },
    {
      "cell_type": "code",
      "execution_count": null,
      "metadata": {
        "id": "JERzxY01754e"
      },
      "outputs": [],
      "source": [
        "# pip install -U imbalanced-learn"
      ]
    },
    {
      "cell_type": "code",
      "execution_count": null,
      "metadata": {
        "id": "lP_x_Goe754e",
        "outputId": "0f96ca0b-c2cd-4f62-8503-55d31c073c95"
      },
      "outputs": [
        {
          "name": "stdout",
          "output_type": "stream",
          "text": [
            "Counter({0: 488665, 1: 25344})\n",
            "Counter({0: 488665, 1: 488665})\n"
          ]
        }
      ],
      "source": [
        "# example of random oversampling to balance the class distribution\n",
        "from collections import Counter\n",
        "from imblearn.over_sampling import RandomOverSampler\n",
        "# define dataset\n",
        "# X and y arrays:\n",
        "X = data.drop(\"TARGET\", axis = 1) # All columns except this column.\n",
        "y = data[\"TARGET\"] # Only this column\n",
        "print(Counter(y))\n",
        "# define oversampling strategy\n",
        "oversample = RandomOverSampler(sampling_strategy='minority')\n",
        "# fit and apply the transform\n",
        "X_over, y_over = oversample.fit_resample(X, y)\n",
        "# summarize class distribution\n",
        "print(Counter(y_over))"
      ]
    },
    {
      "cell_type": "code",
      "execution_count": null,
      "metadata": {
        "id": "ZwAHJok5754e",
        "outputId": "44307a20-8820-4461-97c9-7527936fdc92"
      },
      "outputs": [
        {
          "name": "stdout",
          "output_type": "stream",
          "text": [
            "Counter({'C2': 1, 'C3': 1, 'N1': 1, 'N2': 1, 'N3': 1, 'N4': 1, 'N5': 1, 'N6': 1, 'N7': 1, 'N8': 1, 'N9': 1, 'N10': 1, 'N11': 1, 'N12': 1, 'N13': 1, 'N14': 1, 'N15': 1, 'N16': 1, 'N17': 1, 'N18': 1, 'N19': 1, 'N20': 1, 'N21': 1, 'N22': 1, 'N23': 1})\n"
          ]
        }
      ],
      "source": [
        "print(Counter(X_over))"
      ]
    },
    {
      "cell_type": "markdown",
      "metadata": {
        "id": "yO70-bex754e"
      },
      "source": [
        "###  Train-Test Split"
      ]
    },
    {
      "cell_type": "code",
      "execution_count": null,
      "metadata": {
        "id": "u3BiKCVb754f",
        "outputId": "c7c26f12-8f60-454e-acca-bfb56e706c95"
      },
      "outputs": [
        {
          "name": "stdout",
          "output_type": "stream",
          "text": [
            "(684131, 25)\n",
            "(684131,)\n",
            "(293199, 25)\n",
            "(293199,)\n"
          ]
        }
      ],
      "source": [
        "# splitting data into training and test data\n",
        "X_train, X_test, y_train, y_test = train_test_split(X_over, y_over, test_size = 0.3) # 70% training and 30% test\n",
        "\n",
        "print(X_train.shape)\n",
        "print(y_train.shape)\n",
        "print(X_test.shape)\n",
        "print(y_test.shape)"
      ]
    },
    {
      "cell_type": "markdown",
      "metadata": {
        "id": "hllBXghA754f"
      },
      "source": [
        "## As our Dataset is Balanced, creating DecisionTreeClassifier Model:\n",
        "+ https://scikit-learn.org/stable/modules/generated/sklearn.tree.DecisionTreeClassifier.html#sklearn.tree.DecisionTreeClassifier"
      ]
    },
    {
      "cell_type": "code",
      "execution_count": null,
      "metadata": {
        "id": "LWm4lpu9754f",
        "outputId": "e64df872-372a-498f-c446-caff31420ef0"
      },
      "outputs": [
        {
          "name": "stdout",
          "output_type": "stream",
          "text": [
            "Accuracy on Train set 0.989\n",
            "Accuracy on Test set 0.968\n",
            "MSE on Test set 0.032\n",
            "Recall_score on Test set 1.0\n",
            "Precision_score on Test set 0.94\n",
            "Confusion_matrix on Test set [[137715   9321]\n",
            " [     0 146163]]\n",
            "f1_score on Test set 0.969\n"
          ]
        }
      ],
      "source": [
        "from sklearn.tree import DecisionTreeClassifier\n",
        "\n",
        "DTree_model = DecisionTreeClassifier()\n",
        "\n",
        "DTree_model.fit(X_train,y_train)\n",
        "y_pred_dt = DTree_model.predict(X_test)\n",
        "\n",
        "#checking accuracy of predicted values\n",
        "DT_train_score = round(DTree_model.score(X_train,y_train),3)\n",
        "DT_test_score = round(DTree_model.score(X_test,y_test),3)\n",
        "DT_mse = round(mean_squared_error(y_test, y_pred_dt),3)\n",
        "DT_recall =  round(recall_score(y_test, y_pred_dt),3)\n",
        "DT_precision = round(precision_score(y_test, y_pred_dt),3)\n",
        "DT_F1_score =  round(f1_score(y_test, y_pred_dt),3)\n",
        "\n",
        "#Printing results\n",
        "print('Accuracy on Train set', DT_train_score)\n",
        "print('Accuracy on Test set', DT_test_score)\n",
        "print('MSE on Test set', DT_mse)\n",
        "print('Recall_score on Test set', DT_recall)\n",
        "print('Precision_score on Test set',DT_precision)\n",
        "print('Confusion_matrix on Test set',confusion_matrix(y_test, y_pred_dt))\n",
        "print('f1_score on Test set',DT_F1_score)"
      ]
    },
    {
      "cell_type": "markdown",
      "metadata": {
        "id": "qRryM6Qw754f"
      },
      "source": [
        "### Checking AUC metric:"
      ]
    },
    {
      "cell_type": "code",
      "execution_count": null,
      "metadata": {
        "id": "9xMx0f0h754f",
        "outputId": "eda49765-2b0c-4e6d-c7b6-2b9c85f3d139"
      },
      "outputs": [
        {
          "name": "stdout",
          "output_type": "stream",
          "text": [
            "AUC on test set 0.97\n"
          ]
        },
        {
          "data": {
            "image/png": "[encoded data removed]",
            "text/plain": [
              "<Figure size 864x288 with 2 Axes>"
            ]
          },
          "metadata": {},
          "output_type": "display_data"
        }
      ],
      "source": [
        "# probability\n",
        "probs_train = DTree_model.predict_proba(X_train)\n",
        "probs_train = probs_train[:, 1]\n",
        "probs_test = DTree_model.predict_proba(X_test)\n",
        "probs_test = probs_test[:, 1]\n",
        "# plot\n",
        "plt.style.use('seaborn-whitegrid')\n",
        "fpr_train, tpr_train, thresholds_train = roc_curve(y_train, probs_train)\n",
        "fpr_test, tpr_test, thresholds_test = roc_curve(y_test, probs_test)\n",
        "fig, (ax1, ax2) = plt.subplots(1, 2,figsize=(12,4))\n",
        "ax1.plot([0, 1], [0, 1], linestyle='--');\n",
        "ax1.plot(fpr_train, tpr_train, marker='.');\n",
        "ax1.set_title('ROC_Curve on training set for Decision Tree');\n",
        "ax2.plot([0, 1], [0, 1], linestyle='--');\n",
        "ax2.plot(fpr_test, tpr_test, marker='.');\n",
        "ax2.set_title('ROC_Curve on test set for Decision Tree');\n",
        "auc_DT_test = round(auc(fpr_test, tpr_test),2)\n",
        "print('AUC on test set',auc_DT_test)"
      ]
    },
    {
      "cell_type": "markdown",
      "metadata": {
        "id": "Lr3bfION754f"
      },
      "source": [
        "## AUC is 0.97 which is very suitable score for Model."
      ]
    },
    {
      "cell_type": "code",
      "execution_count": null,
      "metadata": {
        "id": "PlCHsf6o754f"
      },
      "outputs": [],
      "source": [
        "# 4. Combine over- and under-sampling using SMOTE\n",
        "\n",
        "# from imblearn.over_sampling import SMOTE\n",
        "# from collections import Counter\n",
        "\n",
        "# X and y arrays:\n",
        "# X = data.drop(\"TARGET\", axis = 1) # All columns except this column.\n",
        "# y = data[\"TARGET\"] # Only this column\n",
        "\n",
        "# smot = SMOTE()\n",
        "# X_res, y_res = smot.fit_resample(X, y)\n",
        "# print(f'Original train dataset shape: {Counter(y)}')\n",
        "# print(f'Resampled train dataset shape: {Counter(y_res)}\\n')\n",
        "# Result is  0 and 1 are equal"
      ]
    },
    {
      "cell_type": "markdown",
      "metadata": {
        "id": "I8RjHFpm754g"
      },
      "source": [
        "### Guide of Found Metrics :\n",
        "\n",
        "+ The **Mean square error (MSE)** is the average of the square of the errors. The lower the value the better and 0 means the model is perfect.The larger the number the larger the error.\n",
        "+ \n",
        "+ The **Recall** is intuitively the ability of the classifier to find all the positive samples. The best value is 1 and the worst value is 0.\n",
        "+\n",
        "+ The **Precision** is intuitively the ability of the classifier not to label as positive a sample that is negative. The best value is 1 and the worst value is 0.\n",
        "+  \n",
        "+ The **F1 score** is a way of combining the precision and recall of the model. An F1 score reaches its best value at 1 and worst value at 0. A low F1 score is an indication of both poor precision and poor recall.\n",
        "+ \n",
        "+ The **Area Under the Curve (AUC)** is the measure of the ability of a classifier to distinguish between classes and is used as a summary of the ROC curve. The higher the AUC, the better the performance of the model at distinguishing between the positive and negative classes. The AUC value lies between 0.5 to 1 were 0.5 denotes a bad classifier and1 denotes an excellent classifier.\n",
        "+ \n",
        "+ A **Confusion Matrix** is an N x N matrix used for evaluating the performance of a classification model, where N is the number of target classes. The matrix compares the actual target values with those predicted by the machine learning model\n",
        "+"
      ]
    },
    {
      "cell_type": "markdown",
      "metadata": {
        "id": "OZ5nEtmG754g"
      },
      "source": [
        "## In the end, we just created Dataframe, to see Score our observed models:"
      ]
    },
    {
      "cell_type": "code",
      "execution_count": null,
      "metadata": {
        "id": "siBxrH5S754g",
        "outputId": "34a19501-5f97-4af9-d2cd-61f3940b41c3"
      },
      "outputs": [
        {
          "data": {
            "text/html": [
              "<div>\n",
              "<style scoped>\n",
              "    .dataframe tbody tr th:only-of-type {\n",
              "        vertical-align: middle;\n",
              "    }\n",
              "\n",
              "    .dataframe tbody tr th {\n",
              "        vertical-align: top;\n",
              "    }\n",
              "\n",
              "    .dataframe thead th {\n",
              "        text-align: right;\n",
              "    }\n",
              "</style>\n",
              "<table border=\"1\" class=\"dataframe\">\n",
              "  <thead>\n",
              "    <tr style=\"text-align: right;\">\n",
              "      <th></th>\n",
              "      <th>Train_Score</th>\n",
              "      <th>Test_Score</th>\n",
              "      <th>MSE_score</th>\n",
              "      <th>Recall</th>\n",
              "      <th>Precision</th>\n",
              "      <th>F1_score</th>\n",
              "      <th>AUC_score</th>\n",
              "    </tr>\n",
              "  </thead>\n",
              "  <tbody>\n",
              "    <tr>\n",
              "      <th>NaiveBayes Classifier</th>\n",
              "      <td>0.536</td>\n",
              "      <td>0.535</td>\n",
              "      <td>0.465</td>\n",
              "      <td>0.879</td>\n",
              "      <td>0.086</td>\n",
              "      <td>0.157</td>\n",
              "      <td>0.826</td>\n",
              "    </tr>\n",
              "    <tr>\n",
              "      <th>RandomForest Classifier</th>\n",
              "      <td>0.952</td>\n",
              "      <td>0.952</td>\n",
              "      <td>0.048</td>\n",
              "      <td>0.088</td>\n",
              "      <td>0.579</td>\n",
              "      <td>0.152</td>\n",
              "      <td>0.865</td>\n",
              "    </tr>\n",
              "    <tr>\n",
              "      <th>Decision Tree Classifier-AN</th>\n",
              "      <td>0.989</td>\n",
              "      <td>0.968</td>\n",
              "      <td>0.032</td>\n",
              "      <td>1.000</td>\n",
              "      <td>0.940</td>\n",
              "      <td>0.969</td>\n",
              "      <td>0.970</td>\n",
              "    </tr>\n",
              "  </tbody>\n",
              "</table>\n",
              "</div>"
            ],
            "text/plain": [
              "                             Train_Score  Test_Score  MSE_score  Recall  \\\n",
              "NaiveBayes Classifier              0.536       0.535      0.465   0.879   \n",
              "RandomForest Classifier            0.952       0.952      0.048   0.088   \n",
              "Decision Tree Classifier-AN        0.989       0.968      0.032   1.000   \n",
              "\n",
              "                             Precision  F1_score  AUC_score  \n",
              "NaiveBayes Classifier            0.086     0.157      0.826  \n",
              "RandomForest Classifier          0.579     0.152      0.865  \n",
              "Decision Tree Classifier-AN      0.940     0.969      0.970  "
            ]
          },
          "execution_count": 65,
          "metadata": {},
          "output_type": "execute_result"
        }
      ],
      "source": [
        "# collecting into 1 Dataframe\n",
        "all_train_score = [NaiveBayse_train_score,RF_train_score,DT_train_score]\n",
        "all_test_score = [NaiveBayse_test_score,RF_test_score,DT_test_score]\n",
        "\n",
        "all_mse = [NaiveBayse_mse,RF_mse, DT_mse ]\n",
        "all_recall = [NaiveBayse_recall,RF_recall, DT_recall]\n",
        "all_precision = [NaiveBayse_precision,RF_precision,DT_precision ]\n",
        "\n",
        "all_F1 = [NB_F1_score,RF_F1_score,DT_F1_score]\n",
        "all_Auc = [auc_NaiveBayse_test, auc_RF_test, auc_DT_test ]\n",
        "\n",
        "#columns:\n",
        "columns={'Train_Score':all_train_score,'Test_Score':all_test_score,'MSE_score':all_mse, 'Recall':all_recall,'Precision':all_precision,'F1_score':all_F1,'AUC_score':all_Auc}\n",
        "\n",
        "models=['NaiveBayes Classifier', 'RandomForest Classifier', 'Decision Tree Classifier-AN']\n",
        "result = pd.DataFrame(data = columns,index = models)\n",
        "result"
      ]
    },
    {
      "cell_type": "markdown",
      "metadata": {
        "id": "1S5QXvgq754g"
      },
      "source": [
        "# Conslusion\n",
        "### Comparison of models\n",
        "+ To begin, we can see that first 2 models that created on Imbalanced data are NaiveBayes and RandomForest Classiifiers.\n",
        "+ **NaiveBayes** have shown results scores for ACCURACY is low - 53 %, while MSE is quite good,  because it is close to 0.4. Recall is also close to 1, is best value, while, precision is 0.086, so it is worst. As a result, F-1 score is worst case.However, AUC_score is close to 1, like 0.82 is acceptable classifier.\n",
        "+ \n",
        "+ **RandomForest Classifier** has shown very well results, such as acuracy is high- 95 %, MSE is low, it is fine, Recall is low, while precision is medium, as a consequnce F1-score is very low, bad case. Mean while, AUC is again very high, so it is suitable.\n",
        "+ \n",
        "+ To continue, next model is done by the help of **Oversampling the Data**, eventually we buld the **Decision Tree Classifier Model.**\n",
        "+ For this model, all result were pleasing, as we can see from both Train and test accuracy scores were extremely high, **98 % and 96 %** .MSE is also, smaller than other models showed. Recall is exactly 1, so best, and Precision is also close to 1, like 0.9, also the best, and if we combine them  to get F1_score is suitable  as 0.9. Finally, our AUC score is  0.97, it means that our model has an **EXCELLENT prediction** "
      ]
    }
  ],
  "metadata": {
    "kernelspec": {
      "display_name": "Python 3",
      "language": "python",
      "name": "python3"
    },
    "language_info": {
      "codemirror_mode": {
        "name": "ipython",
        "version": 3
      },
      "file_extension": ".py",
      "mimetype": "text/x-python",
      "name": "python",
      "nbconvert_exporter": "python",
      "pygments_lexer": "ipython3",
      "version": "3.8.5"
    },
    "colab": {
      "provenance": []
    }
  },
  "nbformat": 4,
  "nbformat_minor": 0
}